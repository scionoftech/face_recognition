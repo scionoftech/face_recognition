{
 "cells": [
  {
   "cell_type": "markdown",
   "metadata": {
    "colab_type": "text",
    "id": "0FZJlXb3yU49"
   },
   "source": [
    "## Install dlib"
   ]
  },
  {
   "cell_type": "code",
   "execution_count": 0,
   "metadata": {
    "colab": {},
    "colab_type": "code",
    "id": "imB1c441f-rA"
   },
   "outputs": [],
   "source": [
    "! apt install python python-pip build-essential cmake pkg-config libx11-dev libatlas-base-dev libgtk-3-dev libboost-python-dev -y\n",
    "!pip install dlib"
   ]
  },
  {
   "cell_type": "markdown",
   "metadata": {
    "colab_type": "text",
    "id": "eUrIFgmpydxe"
   },
   "source": [
    "## install face_recognition "
   ]
  },
  {
   "cell_type": "code",
   "execution_count": 0,
   "metadata": {
    "colab": {},
    "colab_type": "code",
    "id": "M4xvmrgfycpy"
   },
   "outputs": [],
   "source": [
    "! pip3 install face_recognition"
   ]
  },
  {
   "cell_type": "code",
   "execution_count": 1,
   "metadata": {
    "colab": {
     "base_uri": "https://localhost:8080/",
     "height": 34
    },
    "colab_type": "code",
    "id": "XGz29Dxm4qS5",
    "outputId": "97821dff-1697-4e7d-b895-1a6cbfa33518"
   },
   "outputs": [
    {
     "name": "stdout",
     "output_type": "stream",
     "text": [
      "1\n"
     ]
    }
   ],
   "source": [
    "# check for dlib on gpu\n",
    "import dlib.cuda as cuda\n",
    "print(cuda.get_num_devices())"
   ]
  },
  {
   "cell_type": "code",
   "execution_count": 0,
   "metadata": {
    "colab": {},
    "colab_type": "code",
    "id": "zqH51EPFfTlP"
   },
   "outputs": [],
   "source": [
    "import face_recognition\n",
    "import cv2\n",
    "import glob\n",
    "import numpy as np\n",
    "import os\n",
    "import joblib"
   ]
  },
  {
   "cell_type": "code",
   "execution_count": 0,
   "metadata": {
    "colab": {},
    "colab_type": "code",
    "id": "08AARfPMhGkg"
   },
   "outputs": [],
   "source": [
    "files_path = \"./face_recognition/\""
   ]
  },
  {
   "cell_type": "markdown",
   "metadata": {
    "colab_type": "text",
    "id": "3zs1CyEpwXxp"
   },
   "source": [
    "## Train Model"
   ]
  },
  {
   "cell_type": "code",
   "execution_count": 0,
   "metadata": {
    "colab": {},
    "colab_type": "code",
    "id": "RACope7bVDkO"
   },
   "outputs": [],
   "source": [
    "from sklearn import svm"
   ]
  },
  {
   "cell_type": "code",
   "execution_count": 0,
   "metadata": {
    "colab": {},
    "colab_type": "code",
    "id": "-JlVMICAwbow"
   },
   "outputs": [],
   "source": [
    "# The training data would be all the face encodings from all the known images and the labels are their folder names\n",
    "encodings = []\n",
    "names = []"
   ]
  },
  {
   "cell_type": "code",
   "execution_count": 0,
   "metadata": {
    "colab": {},
    "colab_type": "code",
    "id": "R1VlzwTIwbmt"
   },
   "outputs": [],
   "source": [
    "# Training directory\n",
    "train_dir = os.listdir(files_path+'train_dir/')"
   ]
  },
  {
   "cell_type": "code",
   "execution_count": 8,
   "metadata": {
    "colab": {
     "base_uri": "https://localhost:8080/",
     "height": 119
    },
    "colab_type": "code",
    "id": "PYIbQlW91Ky_",
    "outputId": "d4b972ab-e316-4bd4-fa88-09f32fbf39b7"
   },
   "outputs": [
    {
     "data": {
      "text/plain": [
       "['Ben-Affleck',\n",
       " 'Henry-Cavill',\n",
       " 'Json-Mamoa',\n",
       " 'Ezra-Miller',\n",
       " 'Ray-Fisher',\n",
       " 'Gal-Gadot']"
      ]
     },
     "execution_count": 8,
     "metadata": {
      "tags": []
     },
     "output_type": "execute_result"
    }
   ],
   "source": [
    "train_dir"
   ]
  },
  {
   "cell_type": "code",
   "execution_count": 0,
   "metadata": {
    "colab": {},
    "colab_type": "code",
    "id": "aDuzeCMwwbiD"
   },
   "outputs": [],
   "source": [
    "# Loop through each person in the training directory\n",
    "for person in train_dir:\n",
    "    pix = os.listdir(files_path+'train_dir/' + person)\n",
    "\n",
    "    # Loop through each training image for the current person\n",
    "    for person_img in pix:\n",
    "        # Get the face encodings for the face in each image file\n",
    "        face = face_recognition.load_image_file(files_path+'train_dir/' + person + \"/\" + person_img)\n",
    "        face_bounding_boxes = face_recognition.face_locations(face,model=\"cnn\") # model ='cnn' uses gpu model = 'HOG' on cpu\n",
    "\n",
    "        #If training image contains exactly one face\n",
    "        if len(face_bounding_boxes) == 1:\n",
    "            face_enc = face_recognition.face_encodings(face)[0]\n",
    "            # Add face encoding for current image with corresponding label (name) to the training data\n",
    "            encodings.append(face_enc)\n",
    "            names.append(person)\n",
    "        else:\n",
    "            print(person + \"/\" + person_img + \" was skipped and can't be used for training\")"
   ]
  },
  {
   "cell_type": "code",
   "execution_count": 10,
   "metadata": {
    "colab": {
     "base_uri": "https://localhost:8080/",
     "height": 85
    },
    "colab_type": "code",
    "id": "zWxe2rAXwbZB",
    "outputId": "e7b09a33-d282-4b77-baa4-4b0157317498"
   },
   "outputs": [
    {
     "data": {
      "text/plain": [
       "SVC(C=1.0, break_ties=False, cache_size=200, class_weight=None, coef0=0.0,\n",
       "    decision_function_shape='ovr', degree=3, gamma='scale', kernel='rbf',\n",
       "    max_iter=-1, probability=True, random_state=None, shrinking=True, tol=0.001,\n",
       "    verbose=False)"
      ]
     },
     "execution_count": 10,
     "metadata": {
      "tags": []
     },
     "output_type": "execute_result"
    }
   ],
   "source": [
    "# Training the SVC classifier\n",
    "clf = svm.SVC(gamma='scale',probability=True)\n",
    "clf.fit(encodings,names)"
   ]
  },
  {
   "cell_type": "code",
   "execution_count": 0,
   "metadata": {
    "colab": {},
    "colab_type": "code",
    "id": "Ue9zGauWwj2r"
   },
   "outputs": [],
   "source": [
    "# Load the test image with faces into a numpy array\n",
    "test_image = face_recognition.load_image_file(files_path+'train_dir/Gal-Gadot/g1.jpg')"
   ]
  },
  {
   "cell_type": "code",
   "execution_count": 22,
   "metadata": {
    "colab": {
     "base_uri": "https://localhost:8080/",
     "height": 34
    },
    "colab_type": "code",
    "id": "LINhVVyywjz9",
    "outputId": "33e1dac3-83c8-4d2b-ec0f-5ed4d82f0d62"
   },
   "outputs": [
    {
     "name": "stdout",
     "output_type": "stream",
     "text": [
      "Number of faces detected:  1\n"
     ]
    }
   ],
   "source": [
    "# Find all the faces in the test image using the default HOG-based model\n",
    "face_locations = face_recognition.face_locations(test_image)\n",
    "no = len(face_locations)\n",
    "print(\"Number of faces detected: \", no)"
   ]
  },
  {
   "cell_type": "code",
   "execution_count": 23,
   "metadata": {
    "colab": {
     "base_uri": "https://localhost:8080/",
     "height": 68
    },
    "colab_type": "code",
    "id": "tCUkwxkGwjwZ",
    "outputId": "afd44d26-7639-4cc8-c148-f50f54152a55"
   },
   "outputs": [
    {
     "name": "stdout",
     "output_type": "stream",
     "text": [
      "Found:\n",
      "Gal-Gadot\n",
      "[[0.08361542 0.08434837 0.66973355 0.05800135 0.05216002 0.0521413 ]]\n"
     ]
    }
   ],
   "source": [
    "# Predict all the faces in the test image using the trained classifier\n",
    "print(\"Found:\")\n",
    "for i in range(no):\n",
    "    test_image_enc = face_recognition.face_encodings(test_image)[i]\n",
    "    name = clf.predict([test_image_enc])\n",
    "    prob = clf.predict_proba([test_image_enc])\n",
    "    print(*name)\n",
    "    print(prob)"
   ]
  },
  {
   "cell_type": "code",
   "execution_count": 0,
   "metadata": {
    "colab": {},
    "colab_type": "code",
    "id": "N2ntdYzHw6Nk"
   },
   "outputs": [],
   "source": [
    "filename = files_path+'face_recognition_svm.pkl'"
   ]
  },
  {
   "cell_type": "code",
   "execution_count": 15,
   "metadata": {
    "colab": {
     "base_uri": "https://localhost:8080/",
     "height": 34
    },
    "colab_type": "code",
    "id": "PBhvxUgiwuHZ",
    "outputId": "ca93e439-0d2f-4295-9b7c-6c13c028f45c"
   },
   "outputs": [
    {
     "data": {
      "text/plain": [
       "['/content/drive/My Drive/DLCP/openwork/face_recognition/justice_league/face_recognition_svm.pkl']"
      ]
     },
     "execution_count": 15,
     "metadata": {
      "tags": []
     },
     "output_type": "execute_result"
    }
   ],
   "source": [
    "# save trained model\n",
    "joblib.dump(clf, filename)"
   ]
  },
  {
   "cell_type": "code",
   "execution_count": 0,
   "metadata": {
    "colab": {},
    "colab_type": "code",
    "id": "6KkWi4IBwuC0"
   },
   "outputs": [],
   "source": [
    "# load treained model\n",
    "loaded_model = joblib.load(filename)"
   ]
  },
  {
   "cell_type": "code",
   "execution_count": 0,
   "metadata": {
    "colab": {},
    "colab_type": "code",
    "id": "7zNDTpiVh_8S"
   },
   "outputs": [],
   "source": [
    "# Open the input video file\n",
    "input_movie = cv2.VideoCapture(files_path+\"test_dir/input.mp4\")\n",
    "\n",
    "length = int(input_movie.get(cv2.CAP_PROP_FRAME_COUNT))\n",
    "frame_width = int(input_movie.get(cv2.CAP_PROP_FRAME_WIDTH))\n",
    "frame_height = int(input_movie.get(cv2.CAP_PROP_FRAME_HEIGHT))\n",
    "frame_rate = input_movie.get(cv2.CAP_PROP_FPS)\n",
    "frame_rate = round(frame_rate,2)"
   ]
  },
  {
   "cell_type": "code",
   "execution_count": 25,
   "metadata": {
    "colab": {
     "base_uri": "https://localhost:8080/",
     "height": 34
    },
    "colab_type": "code",
    "id": "aH3mdcZf2qZg",
    "outputId": "b9ecdd80-47a7-4985-ed1f-899b3fba8f58"
   },
   "outputs": [
    {
     "data": {
      "text/plain": [
       "(640, 480, 29.97, 841)"
      ]
     },
     "execution_count": 25,
     "metadata": {
      "tags": []
     },
     "output_type": "execute_result"
    }
   ],
   "source": [
    "frame_width,frame_height,frame_rate,length"
   ]
  },
  {
   "cell_type": "code",
   "execution_count": 0,
   "metadata": {
    "colab": {},
    "colab_type": "code",
    "id": "M6JfQAg-txGE"
   },
   "outputs": [],
   "source": [
    "# Create an output movie file (make sure resolution/frame rate matches input video!)\n",
    "fourcc = cv2.VideoWriter_fourcc(*'MP4V')\n",
    "output_movie = cv2.VideoWriter(files_path+'test_dir/Output.mp4', fourcc, frame_rate, (frame_width, frame_height))"
   ]
  },
  {
   "cell_type": "code",
   "execution_count": 31,
   "metadata": {
    "colab": {
     "base_uri": "https://localhost:8080/",
     "height": 1000
    },
    "colab_type": "code",
    "id": "BCvk68luijSQ",
    "outputId": "0f0239c9-8815-4cb3-ee0f-ef95f9a6b281"
   },
   "outputs": [
    {
     "name": "stdout",
     "output_type": "stream",
     "text": [
      "CPU times: user 2 µs, sys: 0 ns, total: 2 µs\n",
      "Wall time: 4.77 µs\n",
      "Writing frame 1 / 841\n",
      "Writing frame 2 / 841\n",
      "Writing frame 3 / 841\n",
      "Writing frame 4 / 841\n",
      "Writing frame 5 / 841\n",
      "Writing frame 6 / 841\n",
      "Writing frame 7 / 841\n",
      "Writing frame 8 / 841\n",
      "Writing frame 9 / 841\n",
      "Writing frame 10 / 841\n",
      "Writing frame 11 / 841\n",
      "Writing frame 12 / 841\n",
      "Writing frame 13 / 841\n",
      "Writing frame 14 / 841\n",
      "Writing frame 15 / 841\n",
      "Writing frame 16 / 841\n",
      "Writing frame 17 / 841\n",
      "Writing frame 18 / 841\n",
      "Writing frame 19 / 841\n",
      "Writing frame 20 / 841\n",
      "Writing frame 21 / 841\n",
      "Writing frame 22 / 841\n",
      "Writing frame 23 / 841\n",
      "Writing frame 24 / 841\n",
      "Writing frame 25 / 841\n",
      "Writing frame 26 / 841\n",
      "Writing frame 27 / 841\n",
      "Writing frame 28 / 841\n",
      "Writing frame 29 / 841\n",
      "Writing frame 30 / 841\n",
      "Writing frame 31 / 841\n",
      "Writing frame 32 / 841\n",
      "Writing frame 33 / 841\n",
      "Writing frame 34 / 841\n",
      "Writing frame 35 / 841\n",
      "Writing frame 36 / 841\n",
      "Writing frame 37 / 841\n",
      "Writing frame 38 / 841\n",
      "Writing frame 39 / 841\n",
      "Writing frame 40 / 841\n",
      "Writing frame 41 / 841\n",
      "Writing frame 42 / 841\n",
      "Writing frame 43 / 841\n",
      "Writing frame 44 / 841\n",
      "Writing frame 45 / 841\n",
      "Writing frame 46 / 841\n",
      "Writing frame 47 / 841\n",
      "Writing frame 48 / 841\n",
      "Writing frame 49 / 841\n",
      "Writing frame 50 / 841\n",
      "Writing frame 51 / 841\n",
      "Writing frame 52 / 841\n",
      "Writing frame 53 / 841\n",
      "Writing frame 54 / 841\n",
      "Writing frame 55 / 841\n",
      "Writing frame 56 / 841\n",
      "Writing frame 57 / 841\n",
      "Writing frame 58 / 841\n",
      "Writing frame 59 / 841\n",
      "Writing frame 60 / 841\n",
      "Writing frame 61 / 841\n",
      "Writing frame 62 / 841\n",
      "Writing frame 63 / 841\n",
      "Writing frame 64 / 841\n",
      "Writing frame 65 / 841\n",
      "Writing frame 66 / 841\n",
      "Writing frame 67 / 841\n",
      "Writing frame 68 / 841\n",
      "Writing frame 69 / 841\n",
      "Writing frame 70 / 841\n",
      "Writing frame 71 / 841\n",
      "Writing frame 72 / 841\n",
      "Writing frame 73 / 841\n",
      "Writing frame 74 / 841\n",
      "Writing frame 75 / 841\n",
      "Writing frame 76 / 841\n",
      "Writing frame 77 / 841\n",
      "Writing frame 78 / 841\n",
      "Writing frame 79 / 841\n",
      "Writing frame 80 / 841\n",
      "Writing frame 81 / 841\n",
      "Writing frame 82 / 841\n",
      "Writing frame 83 / 841\n",
      "Writing frame 84 / 841\n",
      "Writing frame 85 / 841\n",
      "Writing frame 86 / 841\n",
      "Writing frame 87 / 841\n",
      "Writing frame 88 / 841\n",
      "Writing frame 89 / 841\n",
      "Writing frame 90 / 841\n",
      "Writing frame 91 / 841\n",
      "Writing frame 92 / 841\n",
      "Writing frame 93 / 841\n",
      "Writing frame 94 / 841\n",
      "Writing frame 95 / 841\n",
      "Writing frame 96 / 841\n",
      "Writing frame 97 / 841\n",
      "Writing frame 98 / 841\n",
      "Writing frame 99 / 841\n",
      "Writing frame 100 / 841\n",
      "Writing frame 101 / 841\n",
      "Writing frame 102 / 841\n",
      "Writing frame 103 / 841\n",
      "Writing frame 104 / 841\n",
      "Writing frame 105 / 841\n",
      "Writing frame 106 / 841\n",
      "Writing frame 107 / 841\n",
      "Writing frame 108 / 841\n",
      "Writing frame 109 / 841\n",
      "Writing frame 110 / 841\n",
      "Writing frame 111 / 841\n",
      "Writing frame 112 / 841\n",
      "Writing frame 113 / 841\n",
      "Writing frame 114 / 841\n",
      "Writing frame 115 / 841\n",
      "Writing frame 116 / 841\n",
      "Writing frame 117 / 841\n",
      "Writing frame 118 / 841\n",
      "Writing frame 119 / 841\n",
      "Writing frame 120 / 841\n",
      "Writing frame 121 / 841\n",
      "Writing frame 122 / 841\n",
      "Writing frame 123 / 841\n",
      "Writing frame 124 / 841\n",
      "Writing frame 125 / 841\n",
      "Writing frame 126 / 841\n",
      "Writing frame 127 / 841\n",
      "Writing frame 128 / 841\n",
      "Writing frame 129 / 841\n",
      "Writing frame 130 / 841\n",
      "Writing frame 131 / 841\n",
      "Writing frame 132 / 841\n",
      "Writing frame 133 / 841\n",
      "Writing frame 134 / 841\n",
      "Writing frame 135 / 841\n",
      "Writing frame 136 / 841\n",
      "Writing frame 137 / 841\n",
      "Writing frame 138 / 841\n",
      "Writing frame 139 / 841\n",
      "Writing frame 140 / 841\n",
      "Writing frame 141 / 841\n",
      "Writing frame 142 / 841\n",
      "Writing frame 143 / 841\n",
      "Writing frame 144 / 841\n",
      "Writing frame 145 / 841\n",
      "Writing frame 146 / 841\n",
      "Writing frame 147 / 841\n",
      "Writing frame 148 / 841\n",
      "Writing frame 149 / 841\n",
      "Writing frame 150 / 841\n",
      "Writing frame 151 / 841\n",
      "Writing frame 152 / 841\n",
      "Writing frame 153 / 841\n",
      "Writing frame 154 / 841\n",
      "Writing frame 155 / 841\n",
      "Writing frame 156 / 841\n",
      "Writing frame 157 / 841\n",
      "Writing frame 158 / 841\n",
      "Writing frame 159 / 841\n",
      "Writing frame 160 / 841\n",
      "Writing frame 161 / 841\n",
      "Writing frame 162 / 841\n",
      "Writing frame 163 / 841\n",
      "Writing frame 164 / 841\n",
      "Writing frame 165 / 841\n",
      "Writing frame 166 / 841\n",
      "Writing frame 167 / 841\n",
      "Writing frame 168 / 841\n",
      "Writing frame 169 / 841\n",
      "Writing frame 170 / 841\n",
      "Writing frame 171 / 841\n",
      "Writing frame 172 / 841\n",
      "Writing frame 173 / 841\n",
      "Writing frame 174 / 841\n",
      "Writing frame 175 / 841\n",
      "Writing frame 176 / 841\n",
      "Writing frame 177 / 841\n",
      "Writing frame 178 / 841\n",
      "Writing frame 179 / 841\n",
      "Writing frame 180 / 841\n",
      "Writing frame 181 / 841\n",
      "Writing frame 182 / 841\n",
      "Writing frame 183 / 841\n",
      "Writing frame 184 / 841\n",
      "Writing frame 185 / 841\n",
      "Writing frame 186 / 841\n",
      "Writing frame 187 / 841\n",
      "Writing frame 188 / 841\n",
      "Writing frame 189 / 841\n",
      "Writing frame 190 / 841\n",
      "Writing frame 191 / 841\n",
      "Writing frame 192 / 841\n",
      "Writing frame 193 / 841\n",
      "Writing frame 194 / 841\n",
      "Writing frame 195 / 841\n",
      "Writing frame 196 / 841\n",
      "Writing frame 197 / 841\n",
      "Writing frame 198 / 841\n",
      "Writing frame 199 / 841\n",
      "Writing frame 200 / 841\n",
      "Writing frame 201 / 841\n",
      "Writing frame 202 / 841\n",
      "Writing frame 203 / 841\n",
      "Writing frame 204 / 841\n",
      "Writing frame 205 / 841\n",
      "Writing frame 206 / 841\n",
      "Writing frame 207 / 841\n",
      "Writing frame 208 / 841\n",
      "Writing frame 209 / 841\n",
      "Writing frame 210 / 841\n",
      "Writing frame 211 / 841\n",
      "Writing frame 212 / 841\n",
      "Writing frame 213 / 841\n",
      "Writing frame 214 / 841\n",
      "Writing frame 215 / 841\n",
      "Writing frame 216 / 841\n",
      "Writing frame 217 / 841\n",
      "Writing frame 218 / 841\n",
      "Writing frame 219 / 841\n",
      "Writing frame 220 / 841\n",
      "Writing frame 221 / 841\n",
      "Writing frame 222 / 841\n",
      "Writing frame 223 / 841\n",
      "Writing frame 224 / 841\n",
      "Writing frame 225 / 841\n",
      "Writing frame 226 / 841\n",
      "Writing frame 227 / 841\n",
      "Writing frame 228 / 841\n",
      "Writing frame 229 / 841\n",
      "Writing frame 230 / 841\n",
      "Writing frame 231 / 841\n",
      "Writing frame 232 / 841\n",
      "Writing frame 233 / 841\n",
      "Writing frame 234 / 841\n",
      "Writing frame 235 / 841\n",
      "Writing frame 236 / 841\n",
      "Writing frame 237 / 841\n",
      "Writing frame 238 / 841\n",
      "Writing frame 239 / 841\n",
      "Writing frame 240 / 841\n",
      "Writing frame 241 / 841\n",
      "Writing frame 242 / 841\n",
      "Writing frame 243 / 841\n",
      "Writing frame 244 / 841\n",
      "Writing frame 245 / 841\n",
      "Writing frame 246 / 841\n",
      "Writing frame 247 / 841\n",
      "Writing frame 248 / 841\n",
      "Writing frame 249 / 841\n",
      "Writing frame 250 / 841\n",
      "Writing frame 251 / 841\n",
      "Writing frame 252 / 841\n",
      "Writing frame 253 / 841\n",
      "Writing frame 254 / 841\n",
      "Writing frame 255 / 841\n",
      "Writing frame 256 / 841\n",
      "Writing frame 257 / 841\n",
      "Writing frame 258 / 841\n",
      "Writing frame 259 / 841\n",
      "Writing frame 260 / 841\n",
      "Writing frame 261 / 841\n",
      "Writing frame 262 / 841\n",
      "Writing frame 263 / 841\n",
      "Writing frame 264 / 841\n",
      "Writing frame 265 / 841\n",
      "Writing frame 266 / 841\n",
      "Writing frame 267 / 841\n",
      "Writing frame 268 / 841\n",
      "Writing frame 269 / 841\n",
      "Writing frame 270 / 841\n",
      "Writing frame 271 / 841\n",
      "Writing frame 272 / 841\n",
      "Writing frame 273 / 841\n",
      "Writing frame 274 / 841\n",
      "Writing frame 275 / 841\n",
      "Writing frame 276 / 841\n",
      "Writing frame 277 / 841\n",
      "Writing frame 278 / 841\n",
      "Writing frame 279 / 841\n",
      "Writing frame 280 / 841\n",
      "Writing frame 281 / 841\n",
      "Writing frame 282 / 841\n",
      "Writing frame 283 / 841\n",
      "Writing frame 284 / 841\n",
      "Writing frame 285 / 841\n",
      "Writing frame 286 / 841\n",
      "Writing frame 287 / 841\n",
      "Writing frame 288 / 841\n",
      "Writing frame 289 / 841\n",
      "Writing frame 290 / 841\n",
      "Writing frame 291 / 841\n",
      "Writing frame 292 / 841\n",
      "Writing frame 293 / 841\n",
      "Writing frame 294 / 841\n",
      "Writing frame 295 / 841\n",
      "Writing frame 296 / 841\n",
      "Writing frame 297 / 841\n",
      "Writing frame 298 / 841\n",
      "Writing frame 299 / 841\n",
      "Writing frame 300 / 841\n",
      "Writing frame 301 / 841\n",
      "Writing frame 302 / 841\n",
      "Writing frame 303 / 841\n",
      "Writing frame 304 / 841\n",
      "Writing frame 305 / 841\n",
      "Writing frame 306 / 841\n",
      "Writing frame 307 / 841\n",
      "Writing frame 308 / 841\n",
      "Writing frame 309 / 841\n",
      "Writing frame 310 / 841\n",
      "Writing frame 311 / 841\n",
      "Writing frame 312 / 841\n",
      "Writing frame 313 / 841\n",
      "Writing frame 314 / 841\n",
      "Writing frame 315 / 841\n",
      "Writing frame 316 / 841\n",
      "Writing frame 317 / 841\n",
      "Writing frame 318 / 841\n",
      "Writing frame 319 / 841\n",
      "Writing frame 320 / 841\n",
      "Writing frame 321 / 841\n",
      "Writing frame 322 / 841\n",
      "Writing frame 323 / 841\n",
      "Writing frame 324 / 841\n",
      "Writing frame 325 / 841\n",
      "Writing frame 326 / 841\n",
      "Writing frame 327 / 841\n",
      "Writing frame 328 / 841\n",
      "Writing frame 329 / 841\n",
      "Writing frame 330 / 841\n",
      "Writing frame 331 / 841\n",
      "Writing frame 332 / 841\n",
      "Writing frame 333 / 841\n",
      "Writing frame 334 / 841\n",
      "Writing frame 335 / 841\n",
      "Writing frame 336 / 841\n",
      "Writing frame 337 / 841\n",
      "Writing frame 338 / 841\n",
      "Writing frame 339 / 841\n",
      "Writing frame 340 / 841\n",
      "Writing frame 341 / 841\n",
      "Writing frame 342 / 841\n",
      "Writing frame 343 / 841\n",
      "Writing frame 344 / 841\n",
      "Writing frame 345 / 841\n",
      "Writing frame 346 / 841\n",
      "Writing frame 347 / 841\n",
      "Writing frame 348 / 841\n",
      "Writing frame 349 / 841\n",
      "Writing frame 350 / 841\n",
      "Writing frame 351 / 841\n",
      "Writing frame 352 / 841\n",
      "Writing frame 353 / 841\n",
      "Writing frame 354 / 841\n",
      "Writing frame 355 / 841\n",
      "Writing frame 356 / 841\n",
      "Writing frame 357 / 841\n",
      "Writing frame 358 / 841\n",
      "Writing frame 359 / 841\n",
      "Writing frame 360 / 841\n",
      "Writing frame 361 / 841\n",
      "Writing frame 362 / 841\n",
      "Writing frame 363 / 841\n",
      "Writing frame 364 / 841\n",
      "Writing frame 365 / 841\n",
      "Writing frame 366 / 841\n",
      "Writing frame 367 / 841\n",
      "Writing frame 368 / 841\n",
      "Writing frame 369 / 841\n",
      "Writing frame 370 / 841\n",
      "Writing frame 371 / 841\n",
      "Writing frame 372 / 841\n",
      "Writing frame 373 / 841\n",
      "Writing frame 374 / 841\n",
      "Writing frame 375 / 841\n",
      "Writing frame 376 / 841\n",
      "Writing frame 377 / 841\n",
      "Writing frame 378 / 841\n",
      "Writing frame 379 / 841\n",
      "Writing frame 380 / 841\n",
      "Writing frame 381 / 841\n",
      "Writing frame 382 / 841\n",
      "Writing frame 383 / 841\n",
      "Writing frame 384 / 841\n",
      "Writing frame 385 / 841\n",
      "Writing frame 386 / 841\n",
      "Writing frame 387 / 841\n",
      "Writing frame 388 / 841\n",
      "Writing frame 389 / 841\n",
      "Writing frame 390 / 841\n",
      "Writing frame 391 / 841\n",
      "Writing frame 392 / 841\n",
      "Writing frame 393 / 841\n",
      "Writing frame 394 / 841\n",
      "Writing frame 395 / 841\n",
      "Writing frame 396 / 841\n",
      "Writing frame 397 / 841\n",
      "Writing frame 398 / 841\n",
      "Writing frame 399 / 841\n",
      "Writing frame 400 / 841\n",
      "Writing frame 401 / 841\n",
      "Writing frame 402 / 841\n",
      "Writing frame 403 / 841\n",
      "Writing frame 404 / 841\n",
      "Writing frame 405 / 841\n",
      "Writing frame 406 / 841\n",
      "Writing frame 407 / 841\n",
      "Writing frame 408 / 841\n",
      "Writing frame 409 / 841\n",
      "Writing frame 410 / 841\n",
      "Writing frame 411 / 841\n",
      "Writing frame 412 / 841\n",
      "Writing frame 413 / 841\n",
      "Writing frame 414 / 841\n",
      "Writing frame 415 / 841\n",
      "Writing frame 416 / 841\n",
      "Writing frame 417 / 841\n",
      "Writing frame 418 / 841\n",
      "Writing frame 419 / 841\n",
      "Writing frame 420 / 841\n",
      "Writing frame 421 / 841\n",
      "Writing frame 422 / 841\n",
      "Writing frame 423 / 841\n",
      "Writing frame 424 / 841\n",
      "Writing frame 425 / 841\n",
      "Writing frame 426 / 841\n",
      "Writing frame 427 / 841\n",
      "Writing frame 428 / 841\n",
      "Writing frame 429 / 841\n",
      "Writing frame 430 / 841\n",
      "Writing frame 431 / 841\n",
      "Writing frame 432 / 841\n",
      "Writing frame 433 / 841\n",
      "Writing frame 434 / 841\n",
      "Writing frame 435 / 841\n",
      "Writing frame 436 / 841\n",
      "Writing frame 437 / 841\n",
      "Writing frame 438 / 841\n",
      "Writing frame 439 / 841\n",
      "Writing frame 440 / 841\n",
      "Writing frame 441 / 841\n",
      "Writing frame 442 / 841\n",
      "Writing frame 443 / 841\n",
      "Writing frame 444 / 841\n",
      "Writing frame 445 / 841\n",
      "Writing frame 446 / 841\n",
      "Writing frame 447 / 841\n",
      "Writing frame 448 / 841\n",
      "Writing frame 449 / 841\n",
      "Writing frame 450 / 841\n",
      "Writing frame 451 / 841\n",
      "Writing frame 452 / 841\n",
      "Writing frame 453 / 841\n",
      "Writing frame 454 / 841\n",
      "Writing frame 455 / 841\n",
      "Writing frame 456 / 841\n",
      "Writing frame 457 / 841\n",
      "Writing frame 458 / 841\n",
      "Writing frame 459 / 841\n",
      "Writing frame 460 / 841\n",
      "Writing frame 461 / 841\n",
      "Writing frame 462 / 841\n",
      "Writing frame 463 / 841\n",
      "Writing frame 464 / 841\n",
      "Writing frame 465 / 841\n",
      "Writing frame 466 / 841\n",
      "Writing frame 467 / 841\n",
      "Writing frame 468 / 841\n",
      "Writing frame 469 / 841\n",
      "Writing frame 470 / 841\n",
      "Writing frame 471 / 841\n",
      "Writing frame 472 / 841\n",
      "Writing frame 473 / 841\n",
      "Writing frame 474 / 841\n",
      "Writing frame 475 / 841\n",
      "Writing frame 476 / 841\n",
      "Writing frame 477 / 841\n",
      "Writing frame 478 / 841\n",
      "Writing frame 479 / 841\n",
      "Writing frame 480 / 841\n",
      "Writing frame 481 / 841\n",
      "Writing frame 482 / 841\n",
      "Writing frame 483 / 841\n",
      "Writing frame 484 / 841\n",
      "Writing frame 485 / 841\n",
      "Writing frame 486 / 841\n",
      "Writing frame 487 / 841\n",
      "Writing frame 488 / 841\n",
      "Writing frame 489 / 841\n",
      "Writing frame 490 / 841\n",
      "Writing frame 491 / 841\n",
      "Writing frame 492 / 841\n",
      "Writing frame 493 / 841\n",
      "Writing frame 494 / 841\n",
      "Writing frame 495 / 841\n",
      "Writing frame 496 / 841\n",
      "Writing frame 497 / 841\n",
      "Writing frame 498 / 841\n",
      "Writing frame 499 / 841\n",
      "Writing frame 500 / 841\n",
      "Writing frame 501 / 841\n",
      "Writing frame 502 / 841\n",
      "Writing frame 503 / 841\n",
      "Writing frame 504 / 841\n",
      "Writing frame 505 / 841\n",
      "Writing frame 506 / 841\n",
      "Writing frame 507 / 841\n",
      "Writing frame 508 / 841\n",
      "Writing frame 509 / 841\n",
      "Writing frame 510 / 841\n",
      "Writing frame 511 / 841\n",
      "Writing frame 512 / 841\n",
      "Writing frame 513 / 841\n",
      "Writing frame 514 / 841\n",
      "Writing frame 515 / 841\n",
      "Writing frame 516 / 841\n",
      "Writing frame 517 / 841\n",
      "Writing frame 518 / 841\n",
      "Writing frame 519 / 841\n",
      "Writing frame 520 / 841\n",
      "Writing frame 521 / 841\n",
      "Writing frame 522 / 841\n",
      "Writing frame 523 / 841\n",
      "Writing frame 524 / 841\n",
      "Writing frame 525 / 841\n",
      "Writing frame 526 / 841\n",
      "Writing frame 527 / 841\n",
      "Writing frame 528 / 841\n",
      "Writing frame 529 / 841\n",
      "Writing frame 530 / 841\n",
      "Writing frame 531 / 841\n",
      "Writing frame 532 / 841\n",
      "Writing frame 533 / 841\n",
      "Writing frame 534 / 841\n",
      "Writing frame 535 / 841\n",
      "Writing frame 536 / 841\n",
      "Writing frame 537 / 841\n",
      "Writing frame 538 / 841\n",
      "Writing frame 539 / 841\n",
      "Writing frame 540 / 841\n",
      "Writing frame 541 / 841\n",
      "Writing frame 542 / 841\n",
      "Writing frame 543 / 841\n",
      "Writing frame 544 / 841\n",
      "Writing frame 545 / 841\n",
      "Writing frame 546 / 841\n",
      "Writing frame 547 / 841\n",
      "Writing frame 548 / 841\n",
      "Writing frame 549 / 841\n",
      "Writing frame 550 / 841\n",
      "Writing frame 551 / 841\n",
      "Writing frame 552 / 841\n",
      "Writing frame 553 / 841\n",
      "Writing frame 554 / 841\n",
      "Writing frame 555 / 841\n"
     ]
    }
   ],
   "source": [
    "%time\n",
    "# Initialize some variables\n",
    "face_locations = []\n",
    "face_encodings = []\n",
    "face_names = []\n",
    "frame_number = 0\n",
    "while True:\n",
    "    # Grab a single frame of video\n",
    "    ret, frame = input_movie.read()\n",
    "    frame_number += 1\n",
    "\n",
    "    # Quit when the input video file ends\n",
    "    if not ret:\n",
    "        break\n",
    "\n",
    "    # Convert the image from BGR color (which OpenCV uses) to RGB color (which face_recognition uses)\n",
    "    rgb_frame = frame[:, :, ::-1]\n",
    "\n",
    "    # Find all the faces and face encodings in the current frame of video\n",
    "    face_locations = face_recognition.face_locations(rgb_frame,model=\"cnn\")\n",
    "    face_encodings = face_recognition.face_encodings(rgb_frame, face_locations)\n",
    "\n",
    "    face_names = []\n",
    "    face_locations_pred = []\n",
    "    try:\n",
    "        for i, face_encoding in enumerate(face_encodings):\n",
    "            # See if the face is a match for the known face(s)\n",
    "            prob = loaded_model.predict_proba([face_encoding])[0]\n",
    "            \n",
    "            if any([v*100 > 70 for v in prob]):\n",
    "                # print(prob)\n",
    "                face_names.append(loaded_model.predict([face_encoding])[0])\n",
    "                face_locations_pred.append(face_locations[i])\n",
    "        # Label the results\n",
    "        for (top, right, bottom, left), name in zip(face_locations_pred, face_names):\n",
    "            if not name:\n",
    "                continue\n",
    "\n",
    "            # Draw a box around the face\n",
    "            cv2.rectangle(frame, (left, top), (right, bottom), (0, 0, 255), 2)\n",
    "\n",
    "            # Draw a label with a name below the face\n",
    "            cv2.rectangle(frame, (left, bottom - 25), (right, bottom), (0, 0, 255), cv2.FILLED)\n",
    "            font = cv2.FONT_HERSHEY_DUPLEX\n",
    "            cv2.putText(frame, name, (left + 6, bottom - 6), font, 0.5, (255, 255, 255), 1)\n",
    "    except Exception as ex:\n",
    "        print(ex)\n",
    "    finally:\n",
    "        # Write the resulting image to the output video file\n",
    "        print(\"Writing frame {} / {}\".format(frame_number, length))\n",
    "        output_movie.write(frame)\n",
    "\n",
    "# All done!\n",
    "input_movie.release()\n",
    "output_movie.release()\n",
    "cv2.destroyAllWindows()"
   ]
  },
  {
   "cell_type": "markdown",
   "metadata": {
    "colab_type": "text",
    "id": "XQTYRYq-zP09"
   },
   "source": [
    "## Reference\n",
    "- Face Recognition [The world's simplest facial recognition api for Python and the command line](https://github.com/ageitgey/face_recognition)"
   ]
  }
 ],
 "metadata": {
  "accelerator": "GPU",
  "colab": {
   "collapsed_sections": [],
   "name": "face_recognition_svmipynb",
   "provenance": []
  },
  "kernelspec": {
   "display_name": "Python 3",
   "language": "python",
   "name": "python3"
  },
  "language_info": {
   "codemirror_mode": {
    "name": "ipython",
    "version": 3
   },
   "file_extension": ".py",
   "mimetype": "text/x-python",
   "name": "python",
   "nbconvert_exporter": "python",
   "pygments_lexer": "ipython3",
   "version": "3.7.3"
  }
 },
 "nbformat": 4,
 "nbformat_minor": 1
}
